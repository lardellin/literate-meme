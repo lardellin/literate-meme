{
 "cells": [
  {
   "cell_type": "code",
   "execution_count": 4,
   "metadata": {},
   "outputs": [
    {
     "data": {
      "text/plain": [
       "'https://www.meteoschweiz.admin.ch/lokalprognose/allschwil/4123.html#forecast-tab=detail-view'"
      ]
     },
     "execution_count": 4,
     "metadata": {},
     "output_type": "execute_result"
    }
   ],
   "source": [
    "'https://www.meteoschweiz.admin.ch/lokalprognose/allschwil/4123.html#forecast-tab=detail-view'"
   ]
  },
  {
   "cell_type": "code",
   "execution_count": 1,
   "metadata": {},
   "outputs": [],
   "source": [
    "import time \n",
    "import pandas as pd \n",
    "from selenium import webdriver \n",
    "from selenium.webdriver import Chrome \n",
    "from selenium.webdriver.common.by import By "
   ]
  },
  {
   "cell_type": "code",
   "execution_count": 2,
   "metadata": {},
   "outputs": [],
   "source": [
    "# Define the Chrome webdriver options\n",
    "options = webdriver.ChromeOptions() \n",
    "options.add_argument(\"--headless\") # Set the Chrome webdriver to run in headless mode for scalability\n",
    "\n",
    "# By default, Selenium waits for all resources to download before taking actions.\n",
    "# However, we don't need it as the page is populated with dynamically generated JavaScript code.\n",
    "options.page_load_strategy = \"none\"\n",
    "\n",
    "# Pass the defined options objects to initialize the web driver \n",
    "driver = Chrome(options=options) \n",
    "# Set an implicit wait of 5 seconds to allow time for elements to appear before throwing an exception\n",
    "driver.implicitly_wait(5)\n"
   ]
  },
  {
   "cell_type": "code",
   "execution_count": 18,
   "metadata": {},
   "outputs": [],
   "source": [
    "url = \"https://www.instacart.com/store/sprouts/collections/bread/872?guest=true\" \n",
    " \n",
    "driver.get(url) \n",
    "time.sleep(10)\n"
   ]
  },
  {
   "cell_type": "code",
   "execution_count": 19,
   "metadata": {},
   "outputs": [],
   "source": [
    "content = driver.find_element(By.CSS_SELECTOR, \"div[class*='e-14cjhfa'\")\n"
   ]
  },
  {
   "cell_type": "code",
   "execution_count": 20,
   "metadata": {},
   "outputs": [],
   "source": [
    "breads = content.find_elements(By.TAG_NAME, \"li\")\n"
   ]
  },
  {
   "cell_type": "code",
   "execution_count": 21,
   "metadata": {},
   "outputs": [],
   "source": [
    "element = breads[0]"
   ]
  },
  {
   "cell_type": "code",
   "execution_count": 22,
   "metadata": {},
   "outputs": [
    {
     "data": {
      "text/plain": [
       "'<div class=\"e-13udsys\"><div><div aria-label=\"Product\" role=\"group\" class=\"e-fsno8i\"><a role=\"button\" href=\"/products/29737683-take-bake-sprouts-seedsational-14-oz?retailerSlug=sprouts\" class=\"e-1dlf43s\"><div style=\"position: relative;\"><div class=\"e-19idom\"><div class=\"e-1m0du6a\"><div class=\"e-ec1gba\"><img srcset=\"https://www.instacart.com/image-server/197x197/filters:fill(FFF,true):format(jpg)/d2lnr5mha7bycj.cloudfront.net/product-image/file/large_88437a81-3d24-4287-8b17-78f22fca070c.png, https://www.instacart.com/image-server/296x296/filters:fill(FFF,true):format(jpg)/d2lnr5mha7bycj.cloudfront.net/product-image/file/large_88437a81-3d24-4287-8b17-78f22fca070c.png 1.5x, https://www.instacart.com/image-server/394x394/filters:fill(FFF,true):format(jpg)/d2lnr5mha7bycj.cloudfront.net/product-image/file/large_88437a81-3d24-4287-8b17-78f22fca070c.png 2x, https://www.instacart.com/image-server/591x591/filters:fill(FFF,true):format(jpg)/d2lnr5mha7bycj.cloudfront.net/product-image/file/large_88437a81-3d24-4287-8b17-78f22fca070c.png 3x, https://www.instacart.com/image-server/788x788/filters:fill(FFF,true):format(jpg)/d2lnr5mha7bycj.cloudfront.net/product-image/file/large_88437a81-3d24-4287-8b17-78f22fca070c.png 4x\" alt=\"\" class=\"e-by6b4l\"></div></div></div></div><div><div class=\"e-m67vuy\"><div aria-label=\"$4.99\" class=\"e-k008qs\"><div class=\"e-1jioxed\"><span class=\"screen-reader-only\" style=\"border: 0px; clip: rect(0px, 0px, 0px, 0px); height: 1px; width: 1px; margin: -1px; overflow: hidden; padding: 0px; position: absolute;\">$4.99</span><span class=\"e-0\"><span aria-hidden=\"true\" class=\"e-1d717um\">$</span><span aria-hidden=\"true\" class=\"e-1rr5y1\">4</span><span aria-hidden=\"true\" class=\"e-1d717um\">99</span></span></div><div class=\"e-1om9ohm\"><div class=\"e-1rr4qq7\"></div><div class=\"e-1rr4qq7\"></div></div></div></div><div class=\"e-n9fc4b\"><span class=\"e-th3ch3\">Sprouts Seedsational Nourishing &amp; Slightly Sweet Take And Bake Bread</span></div><div class=\"e-zjik7\"><div title=\"14 oz\" class=\"e-k9ly30\">14 oz</div></div><div class=\"e-mpv0ou\"><div class=\"e-ciqvcs\"><svg data-testid=\"inventory_high_icon_custom\" width=\"1em\" height=\"1em\" viewBox=\"0 0 24 24\" fill=\"C7C8CD\" xmlns=\"http://www.w3.org/2000/svg\"><rect x=\"8\" y=\"16.5\" width=\"8\" height=\"3\" rx=\"1.5\" fill=\"green\" fill-opacity=\"0.7\"></rect><rect x=\"5.5\" y=\"10.5\" width=\"13\" height=\"3\" rx=\"1.5\" fill=\"green\" fill-opacity=\"0.8\"></rect><rect x=\"3\" y=\"4.5\" width=\"18\" height=\"3\" rx=\"1.5\" fill=\"green\"></rect></svg></div><div class=\"e-svklq\">Many in stock</div></div></div></a><div></div><div><div class=\"e-vp4qqz\"><div class=\"e-19k2r9o\"><button aria-label=\"Add 1 item Sprouts Seedsational Nourishing &amp; Slightly Sweet Take And Bake Bread\" class=\"e-19fj1dd\"><div data-testid=\"addItemButtonExpandingAdd\"><div class=\"e-bjcmdk\"><svg width=\"24\" height=\"24\" viewBox=\"0 0 24 24\" fill=\"#FFFFFF\" xmlns=\"http://www.w3.org/2000/svg\" size=\"24\" color=\"systemGrayscale00\" aria-hidden=\"true\"><path d=\"M10.88 13.12V20h2.24v-6.88H20v-2.24h-6.88V4h-2.24v6.88H4v2.24h6.88Z\"></path></svg><span class=\"e-118a3l8\">Add</span></div></div></button></div></div></div></div></div></div>'"
      ]
     },
     "execution_count": 22,
     "metadata": {},
     "output_type": "execute_result"
    }
   ],
   "source": [
    "breads[10].get_attribute(\"innerHTML\")"
   ]
  },
  {
   "cell_type": "code",
   "execution_count": 10,
   "metadata": {},
   "outputs": [],
   "source": [
    "def parse_img_url(url): \n",
    "\t# get the first url \n",
    "\turl = url.split(', ')[0] \n",
    "\t# split it by '/' \n",
    "\tsplitted_url = url.split('/') \n",
    "\t# loop over the elements to find where 'cloudfront' url begins \n",
    "\tfor idx, part in enumerate(splitted_url): \n",
    "\t\tif 'cloudfront' in part: \n",
    "\t\t\t# add the HTTP scheme and concatenate the rest of the URL \n",
    "\t\t\t# then return the processed url \n",
    "\t\t\treturn 'https://' + '/'.join(splitted_url[idx:]) \n",
    " \n",
    "\t# as we don't know if that's the only measurement to take, \n",
    "\t# return None if the cloudfront couldn't be found \n",
    "\treturn None\n"
   ]
  },
  {
   "cell_type": "code",
   "execution_count": 11,
   "metadata": {},
   "outputs": [],
   "source": [
    "img = element.find_element(By.TAG_NAME, \"img\").get_attribute(\"srcset\") \n",
    "img = parse_img_url(img)\n"
   ]
  },
  {
   "cell_type": "code",
   "execution_count": 12,
   "metadata": {},
   "outputs": [
    {
     "data": {
      "text/plain": [
       "'https://d2lnr5mha7bycj.cloudfront.net/product-image/file/large_3f86bf8d-61ae-4ac3-a0c0-b95650fba481.png'"
      ]
     },
     "execution_count": 12,
     "metadata": {},
     "output_type": "execute_result"
    }
   ],
   "source": [
    "img"
   ]
  },
  {
   "cell_type": "code",
   "execution_count": 13,
   "metadata": {},
   "outputs": [],
   "source": [
    "# A>B means the B elements where A is the parent element. \n",
    "dietary_attrs = element.find_elements(By.CSS_SELECTOR, \"div[class*='e-kz6gcj']>span\") \n",
    "# if there aren't any, then 'dietary_attrs' will be None and 'if' block won't work \n",
    "# but if there are any dietary attributes, extract the text from them \n",
    "if dietary_attrs: \n",
    "\tdietary_attrs = [attr.get_attribute(\"textContent\") for attr in dietary_attrs] \n",
    "else: \n",
    "\t# set the variable to None if there aren't any dietary attributes found. \n",
    "\tdietary_attrs = None\n"
   ]
  },
  {
   "cell_type": "code",
   "execution_count": 14,
   "metadata": {},
   "outputs": [],
   "source": [
    "# get the div>span elements where the parent is a 'div' element that  \n",
    "# has 'e-k008qs' string in the 'class' attribute \n",
    "price = element.find_elements(By.CSS_SELECTOR, \"div[class*='e-k008qs']>div>span\")\n",
    "# extract the price text if we could find the price span \n",
    "if price: \n",
    "\tprice = price[0].get_attribute(\"textContent\") \n",
    "else: \n",
    "\tprice = None\n"
   ]
  },
  {
   "cell_type": "code",
   "execution_count": 15,
   "metadata": {},
   "outputs": [
    {
     "data": {
      "text/plain": [
       "'$6.99'"
      ]
     },
     "execution_count": 15,
     "metadata": {},
     "output_type": "execute_result"
    }
   ],
   "source": [
    "price"
   ]
  },
  {
   "cell_type": "code",
   "execution_count": 16,
   "metadata": {},
   "outputs": [
    {
     "ename": "NoSuchElementException",
     "evalue": "Message: no such element: Unable to locate element: {\"method\":\"css selector\",\"selector\":\"span[class*='e-1kb3u2t']\"}\n  (Session info: chrome-headless-shell=121.0.6167.85); For documentation on this error, please visit: https://www.selenium.dev/documentation/webdriver/troubleshooting/errors#no-such-element-exception\nStacktrace:\n#0 0x560fdc674a53 <unknown>\n#1 0x560fdc367154 <unknown>\n#2 0x560fdc3abad6 <unknown>\n#3 0x560fdc3abcf1 <unknown>\n#4 0x560fdc3a1eb6 <unknown>\n#5 0x560fdc3cd83d <unknown>\n#6 0x560fdc3a1dfe <unknown>\n#7 0x560fdc3cd9de <unknown>\n#8 0x560fdc3ea178 <unknown>\n#9 0x560fdc3cd5b3 <unknown>\n#10 0x560fdc3a023d <unknown>\n#11 0x560fdc3a0e9e <unknown>\n#12 0x560fdc64420e <unknown>\n#13 0x560fdc6474dd <unknown>\n#14 0x560fdc646f6f <unknown>\n#15 0x560fdc6479e5 <unknown>\n#16 0x560fdc6357ab <unknown>\n#17 0x560fdc647dc5 <unknown>\n#18 0x560fdc621582 <unknown>\n#19 0x560fdc663ac5 <unknown>\n#20 0x560fdc663c6c <unknown>\n#21 0x560fdc673dc6 <unknown>\n#22 0x7ff98ebd0897 start_thread\n#23 0x7ff98ec576fc __clone3\n",
     "output_type": "error",
     "traceback": [
      "\u001b[0;31m---------------------------------------------------------------------------\u001b[0m",
      "\u001b[0;31mNoSuchElementException\u001b[0m                    Traceback (most recent call last)",
      "Cell \u001b[0;32mIn[16], line 1\u001b[0m\n\u001b[0;32m----> 1\u001b[0m name \u001b[38;5;241m=\u001b[39m \u001b[43melement\u001b[49m\u001b[38;5;241;43m.\u001b[39;49m\u001b[43mfind_element\u001b[49m\u001b[43m(\u001b[49m\u001b[43mBy\u001b[49m\u001b[38;5;241;43m.\u001b[39;49m\u001b[43mCSS_SELECTOR\u001b[49m\u001b[43m,\u001b[49m\u001b[43m \u001b[49m\u001b[38;5;124;43m\"\u001b[39;49m\u001b[38;5;124;43mspan[class*=\u001b[39;49m\u001b[38;5;124;43m'\u001b[39;49m\u001b[38;5;124;43me-1kb3u2t\u001b[39;49m\u001b[38;5;124;43m'\u001b[39;49m\u001b[38;5;124;43m]\u001b[39;49m\u001b[38;5;124;43m\"\u001b[39;49m\u001b[43m)\u001b[49m\u001b[38;5;241m.\u001b[39mget_attribute(\u001b[38;5;124m\"\u001b[39m\u001b[38;5;124mtextContent\u001b[39m\u001b[38;5;124m\"\u001b[39m) \n\u001b[1;32m      2\u001b[0m size \u001b[38;5;241m=\u001b[39m element\u001b[38;5;241m.\u001b[39mfind_element(By\u001b[38;5;241m.\u001b[39mCSS_SELECTOR, \u001b[38;5;124m\"\u001b[39m\u001b[38;5;124mdiv[class*=\u001b[39m\u001b[38;5;124m'\u001b[39m\u001b[38;5;124me-wfknno\u001b[39m\u001b[38;5;124m'\u001b[39m\u001b[38;5;124m]\u001b[39m\u001b[38;5;124m\"\u001b[39m)\u001b[38;5;241m.\u001b[39mget_attribute(\u001b[38;5;124m\"\u001b[39m\u001b[38;5;124mtextContent\u001b[39m\u001b[38;5;124m\"\u001b[39m) \n",
      "File \u001b[0;32m~/.envs/default_python/lib64/python3.12/site-packages/selenium/webdriver/remote/webelement.py:417\u001b[0m, in \u001b[0;36mWebElement.find_element\u001b[0;34m(self, by, value)\u001b[0m\n\u001b[1;32m    414\u001b[0m     by \u001b[38;5;241m=\u001b[39m By\u001b[38;5;241m.\u001b[39mCSS_SELECTOR\n\u001b[1;32m    415\u001b[0m     value \u001b[38;5;241m=\u001b[39m \u001b[38;5;124mf\u001b[39m\u001b[38;5;124m'\u001b[39m\u001b[38;5;124m[name=\u001b[39m\u001b[38;5;124m\"\u001b[39m\u001b[38;5;132;01m{\u001b[39;00mvalue\u001b[38;5;132;01m}\u001b[39;00m\u001b[38;5;124m\"\u001b[39m\u001b[38;5;124m]\u001b[39m\u001b[38;5;124m'\u001b[39m\n\u001b[0;32m--> 417\u001b[0m \u001b[38;5;28;01mreturn\u001b[39;00m \u001b[38;5;28;43mself\u001b[39;49m\u001b[38;5;241;43m.\u001b[39;49m\u001b[43m_execute\u001b[49m\u001b[43m(\u001b[49m\u001b[43mCommand\u001b[49m\u001b[38;5;241;43m.\u001b[39;49m\u001b[43mFIND_CHILD_ELEMENT\u001b[49m\u001b[43m,\u001b[49m\u001b[43m \u001b[49m\u001b[43m{\u001b[49m\u001b[38;5;124;43m\"\u001b[39;49m\u001b[38;5;124;43musing\u001b[39;49m\u001b[38;5;124;43m\"\u001b[39;49m\u001b[43m:\u001b[49m\u001b[43m \u001b[49m\u001b[43mby\u001b[49m\u001b[43m,\u001b[49m\u001b[43m \u001b[49m\u001b[38;5;124;43m\"\u001b[39;49m\u001b[38;5;124;43mvalue\u001b[39;49m\u001b[38;5;124;43m\"\u001b[39;49m\u001b[43m:\u001b[49m\u001b[43m \u001b[49m\u001b[43mvalue\u001b[49m\u001b[43m}\u001b[49m\u001b[43m)\u001b[49m[\u001b[38;5;124m\"\u001b[39m\u001b[38;5;124mvalue\u001b[39m\u001b[38;5;124m\"\u001b[39m]\n",
      "File \u001b[0;32m~/.envs/default_python/lib64/python3.12/site-packages/selenium/webdriver/remote/webelement.py:395\u001b[0m, in \u001b[0;36mWebElement._execute\u001b[0;34m(self, command, params)\u001b[0m\n\u001b[1;32m    393\u001b[0m     params \u001b[38;5;241m=\u001b[39m {}\n\u001b[1;32m    394\u001b[0m params[\u001b[38;5;124m\"\u001b[39m\u001b[38;5;124mid\u001b[39m\u001b[38;5;124m\"\u001b[39m] \u001b[38;5;241m=\u001b[39m \u001b[38;5;28mself\u001b[39m\u001b[38;5;241m.\u001b[39m_id\n\u001b[0;32m--> 395\u001b[0m \u001b[38;5;28;01mreturn\u001b[39;00m \u001b[38;5;28;43mself\u001b[39;49m\u001b[38;5;241;43m.\u001b[39;49m\u001b[43m_parent\u001b[49m\u001b[38;5;241;43m.\u001b[39;49m\u001b[43mexecute\u001b[49m\u001b[43m(\u001b[49m\u001b[43mcommand\u001b[49m\u001b[43m,\u001b[49m\u001b[43m \u001b[49m\u001b[43mparams\u001b[49m\u001b[43m)\u001b[49m\n",
      "File \u001b[0;32m~/.envs/default_python/lib64/python3.12/site-packages/selenium/webdriver/remote/webdriver.py:347\u001b[0m, in \u001b[0;36mWebDriver.execute\u001b[0;34m(self, driver_command, params)\u001b[0m\n\u001b[1;32m    345\u001b[0m response \u001b[38;5;241m=\u001b[39m \u001b[38;5;28mself\u001b[39m\u001b[38;5;241m.\u001b[39mcommand_executor\u001b[38;5;241m.\u001b[39mexecute(driver_command, params)\n\u001b[1;32m    346\u001b[0m \u001b[38;5;28;01mif\u001b[39;00m response:\n\u001b[0;32m--> 347\u001b[0m     \u001b[38;5;28;43mself\u001b[39;49m\u001b[38;5;241;43m.\u001b[39;49m\u001b[43merror_handler\u001b[49m\u001b[38;5;241;43m.\u001b[39;49m\u001b[43mcheck_response\u001b[49m\u001b[43m(\u001b[49m\u001b[43mresponse\u001b[49m\u001b[43m)\u001b[49m\n\u001b[1;32m    348\u001b[0m     response[\u001b[38;5;124m\"\u001b[39m\u001b[38;5;124mvalue\u001b[39m\u001b[38;5;124m\"\u001b[39m] \u001b[38;5;241m=\u001b[39m \u001b[38;5;28mself\u001b[39m\u001b[38;5;241m.\u001b[39m_unwrap_value(response\u001b[38;5;241m.\u001b[39mget(\u001b[38;5;124m\"\u001b[39m\u001b[38;5;124mvalue\u001b[39m\u001b[38;5;124m\"\u001b[39m, \u001b[38;5;28;01mNone\u001b[39;00m))\n\u001b[1;32m    349\u001b[0m     \u001b[38;5;28;01mreturn\u001b[39;00m response\n",
      "File \u001b[0;32m~/.envs/default_python/lib64/python3.12/site-packages/selenium/webdriver/remote/errorhandler.py:229\u001b[0m, in \u001b[0;36mErrorHandler.check_response\u001b[0;34m(self, response)\u001b[0m\n\u001b[1;32m    227\u001b[0m         alert_text \u001b[38;5;241m=\u001b[39m value[\u001b[38;5;124m\"\u001b[39m\u001b[38;5;124malert\u001b[39m\u001b[38;5;124m\"\u001b[39m]\u001b[38;5;241m.\u001b[39mget(\u001b[38;5;124m\"\u001b[39m\u001b[38;5;124mtext\u001b[39m\u001b[38;5;124m\"\u001b[39m)\n\u001b[1;32m    228\u001b[0m     \u001b[38;5;28;01mraise\u001b[39;00m exception_class(message, screen, stacktrace, alert_text)  \u001b[38;5;66;03m# type: ignore[call-arg]  # mypy is not smart enough here\u001b[39;00m\n\u001b[0;32m--> 229\u001b[0m \u001b[38;5;28;01mraise\u001b[39;00m exception_class(message, screen, stacktrace)\n",
      "\u001b[0;31mNoSuchElementException\u001b[0m: Message: no such element: Unable to locate element: {\"method\":\"css selector\",\"selector\":\"span[class*='e-1kb3u2t']\"}\n  (Session info: chrome-headless-shell=121.0.6167.85); For documentation on this error, please visit: https://www.selenium.dev/documentation/webdriver/troubleshooting/errors#no-such-element-exception\nStacktrace:\n#0 0x560fdc674a53 <unknown>\n#1 0x560fdc367154 <unknown>\n#2 0x560fdc3abad6 <unknown>\n#3 0x560fdc3abcf1 <unknown>\n#4 0x560fdc3a1eb6 <unknown>\n#5 0x560fdc3cd83d <unknown>\n#6 0x560fdc3a1dfe <unknown>\n#7 0x560fdc3cd9de <unknown>\n#8 0x560fdc3ea178 <unknown>\n#9 0x560fdc3cd5b3 <unknown>\n#10 0x560fdc3a023d <unknown>\n#11 0x560fdc3a0e9e <unknown>\n#12 0x560fdc64420e <unknown>\n#13 0x560fdc6474dd <unknown>\n#14 0x560fdc646f6f <unknown>\n#15 0x560fdc6479e5 <unknown>\n#16 0x560fdc6357ab <unknown>\n#17 0x560fdc647dc5 <unknown>\n#18 0x560fdc621582 <unknown>\n#19 0x560fdc663ac5 <unknown>\n#20 0x560fdc663c6c <unknown>\n#21 0x560fdc673dc6 <unknown>\n#22 0x7ff98ebd0897 start_thread\n#23 0x7ff98ec576fc __clone3\n"
     ]
    }
   ],
   "source": [
    "name = element.find_element(By.CSS_SELECTOR, \"span[class*='e-1kb3u2t']\").get_attribute(\"textContent\") \n",
    "size = element.find_element(By.CSS_SELECTOR, \"div[class*='e-wfknno']\").get_attribute(\"textContent\") \n"
   ]
  },
  {
   "cell_type": "code",
   "execution_count": 17,
   "metadata": {},
   "outputs": [],
   "source": [
    "def extract_data(element): \n",
    "    # get the 'img' element and extract the 'srcset' attribute\n",
    "    img = element.find_element(By.TAG_NAME, \"img\").get_attribute(\"srcset\") \n",
    "    img = parse_img_url(img)\n",
    "\n",
    "    # A>B means the B elements where A is the parent element. \n",
    "    dietary_attrs = element.find_elements(By.CSS_SELECTOR, \"div[class*='e-kz6gcj']>span\") \n",
    "    # if there aren't any, then 'dietary_attrs' will be None and 'if' block won't work \n",
    "    # but if there are any dietary attributes, extract the text from them \n",
    "    if dietary_attrs: \n",
    "        dietary_attrs = [attr.get_attribute(\"textContent\")  for attr in dietary_attrs] \n",
    "    else: \n",
    "        # set the variable to None if there aren't any dietary attributes found. \n",
    "        dietary_attrs = None\n",
    "\n",
    "    # get the div>span elements where the parent is a 'div' element that \n",
    "    # has 'e-k008qs' string in the 'class' attribute     \n",
    "    price = element.find_elements(By.CSS_SELECTOR, \"div[class*='e-k008qs']>div>span\") \n",
    "    # extract the price text if we could find the price span \n",
    "    if price: \n",
    "        price = price[0].get_attribute(\"textContent\")  \n",
    "    else: \n",
    "        price = None\n",
    "            \n",
    "    name = element.find_element(By.CSS_SELECTOR, \"span[class*='e-1kb3u2t']\").get_attribute(\"textContent\") \n",
    "    size = element.find_element(By.CSS_SELECTOR, \"div[class*='e-wfknno']\").get_attribute(\"textContent\") \n",
    "    \n",
    "    return { \n",
    "\t\t\"price\": price, \n",
    "\t\t\"name\": name, \n",
    "\t\t\"size\": size, \n",
    "\t\t\"attrs\": dietary_attrs, \n",
    "\t\t\"img\": img \n",
    "\t}\n"
   ]
  },
  {
   "cell_type": "code",
   "execution_count": 18,
   "metadata": {},
   "outputs": [
    {
     "ename": "NoSuchElementException",
     "evalue": "Message: no such element: Unable to locate element: {\"method\":\"css selector\",\"selector\":\"span[class*='e-1kb3u2t']\"}\n  (Session info: chrome-headless-shell=121.0.6167.85); For documentation on this error, please visit: https://www.selenium.dev/documentation/webdriver/troubleshooting/errors#no-such-element-exception\nStacktrace:\n#0 0x560fdc674a53 <unknown>\n#1 0x560fdc367154 <unknown>\n#2 0x560fdc3abad6 <unknown>\n#3 0x560fdc3abcf1 <unknown>\n#4 0x560fdc3a1eb6 <unknown>\n#5 0x560fdc3cd83d <unknown>\n#6 0x560fdc3a1dfe <unknown>\n#7 0x560fdc3cd9de <unknown>\n#8 0x560fdc3ea178 <unknown>\n#9 0x560fdc3cd5b3 <unknown>\n#10 0x560fdc3a023d <unknown>\n#11 0x560fdc3a0e9e <unknown>\n#12 0x560fdc64420e <unknown>\n#13 0x560fdc6474dd <unknown>\n#14 0x560fdc646f6f <unknown>\n#15 0x560fdc6479e5 <unknown>\n#16 0x560fdc6357ab <unknown>\n#17 0x560fdc647dc5 <unknown>\n#18 0x560fdc621582 <unknown>\n#19 0x560fdc663ac5 <unknown>\n#20 0x560fdc663c6c <unknown>\n#21 0x560fdc673dc6 <unknown>\n#22 0x7ff98ebd0897 start_thread\n#23 0x7ff98ec576fc __clone3\n",
     "output_type": "error",
     "traceback": [
      "\u001b[0;31m---------------------------------------------------------------------------\u001b[0m",
      "\u001b[0;31mNoSuchElementException\u001b[0m                    Traceback (most recent call last)",
      "Cell \u001b[0;32mIn[18], line 4\u001b[0m\n\u001b[1;32m      1\u001b[0m data \u001b[38;5;241m=\u001b[39m [] \n\u001b[1;32m      3\u001b[0m \u001b[38;5;28;01mfor\u001b[39;00m bread \u001b[38;5;129;01min\u001b[39;00m breads: \n\u001b[0;32m----> 4\u001b[0m \textracted_data \u001b[38;5;241m=\u001b[39m \u001b[43mextract_data\u001b[49m\u001b[43m(\u001b[49m\u001b[43mbread\u001b[49m\u001b[43m)\u001b[49m \n\u001b[1;32m      5\u001b[0m \tdata\u001b[38;5;241m.\u001b[39mappend(extracted_data) \n\u001b[1;32m      7\u001b[0m df \u001b[38;5;241m=\u001b[39m pd\u001b[38;5;241m.\u001b[39mDataFrame(data) \n",
      "Cell \u001b[0;32mIn[17], line 25\u001b[0m, in \u001b[0;36mextract_data\u001b[0;34m(element)\u001b[0m\n\u001b[1;32m     22\u001b[0m     \u001b[38;5;28;01melse\u001b[39;00m: \n\u001b[1;32m     23\u001b[0m         price \u001b[38;5;241m=\u001b[39m \u001b[38;5;28;01mNone\u001b[39;00m\n\u001b[0;32m---> 25\u001b[0m     name \u001b[38;5;241m=\u001b[39m \u001b[43melement\u001b[49m\u001b[38;5;241;43m.\u001b[39;49m\u001b[43mfind_element\u001b[49m\u001b[43m(\u001b[49m\u001b[43mBy\u001b[49m\u001b[38;5;241;43m.\u001b[39;49m\u001b[43mCSS_SELECTOR\u001b[49m\u001b[43m,\u001b[49m\u001b[43m \u001b[49m\u001b[38;5;124;43m\"\u001b[39;49m\u001b[38;5;124;43mspan[class*=\u001b[39;49m\u001b[38;5;124;43m'\u001b[39;49m\u001b[38;5;124;43me-1kb3u2t\u001b[39;49m\u001b[38;5;124;43m'\u001b[39;49m\u001b[38;5;124;43m]\u001b[39;49m\u001b[38;5;124;43m\"\u001b[39;49m\u001b[43m)\u001b[49m\u001b[38;5;241m.\u001b[39mget_attribute(\u001b[38;5;124m\"\u001b[39m\u001b[38;5;124mtextContent\u001b[39m\u001b[38;5;124m\"\u001b[39m) \n\u001b[1;32m     26\u001b[0m     size \u001b[38;5;241m=\u001b[39m element\u001b[38;5;241m.\u001b[39mfind_element(By\u001b[38;5;241m.\u001b[39mCSS_SELECTOR, \u001b[38;5;124m\"\u001b[39m\u001b[38;5;124mdiv[class*=\u001b[39m\u001b[38;5;124m'\u001b[39m\u001b[38;5;124me-wfknno\u001b[39m\u001b[38;5;124m'\u001b[39m\u001b[38;5;124m]\u001b[39m\u001b[38;5;124m\"\u001b[39m)\u001b[38;5;241m.\u001b[39mget_attribute(\u001b[38;5;124m\"\u001b[39m\u001b[38;5;124mtextContent\u001b[39m\u001b[38;5;124m\"\u001b[39m) \n\u001b[1;32m     28\u001b[0m     \u001b[38;5;28;01mreturn\u001b[39;00m { \n\u001b[1;32m     29\u001b[0m \t\t\u001b[38;5;124m\"\u001b[39m\u001b[38;5;124mprice\u001b[39m\u001b[38;5;124m\"\u001b[39m: price, \n\u001b[1;32m     30\u001b[0m \t\t\u001b[38;5;124m\"\u001b[39m\u001b[38;5;124mname\u001b[39m\u001b[38;5;124m\"\u001b[39m: name, \n\u001b[0;32m   (...)\u001b[0m\n\u001b[1;32m     33\u001b[0m \t\t\u001b[38;5;124m\"\u001b[39m\u001b[38;5;124mimg\u001b[39m\u001b[38;5;124m\"\u001b[39m: img \n\u001b[1;32m     34\u001b[0m \t}\n",
      "File \u001b[0;32m~/.envs/default_python/lib64/python3.12/site-packages/selenium/webdriver/remote/webelement.py:417\u001b[0m, in \u001b[0;36mWebElement.find_element\u001b[0;34m(self, by, value)\u001b[0m\n\u001b[1;32m    414\u001b[0m     by \u001b[38;5;241m=\u001b[39m By\u001b[38;5;241m.\u001b[39mCSS_SELECTOR\n\u001b[1;32m    415\u001b[0m     value \u001b[38;5;241m=\u001b[39m \u001b[38;5;124mf\u001b[39m\u001b[38;5;124m'\u001b[39m\u001b[38;5;124m[name=\u001b[39m\u001b[38;5;124m\"\u001b[39m\u001b[38;5;132;01m{\u001b[39;00mvalue\u001b[38;5;132;01m}\u001b[39;00m\u001b[38;5;124m\"\u001b[39m\u001b[38;5;124m]\u001b[39m\u001b[38;5;124m'\u001b[39m\n\u001b[0;32m--> 417\u001b[0m \u001b[38;5;28;01mreturn\u001b[39;00m \u001b[38;5;28;43mself\u001b[39;49m\u001b[38;5;241;43m.\u001b[39;49m\u001b[43m_execute\u001b[49m\u001b[43m(\u001b[49m\u001b[43mCommand\u001b[49m\u001b[38;5;241;43m.\u001b[39;49m\u001b[43mFIND_CHILD_ELEMENT\u001b[49m\u001b[43m,\u001b[49m\u001b[43m \u001b[49m\u001b[43m{\u001b[49m\u001b[38;5;124;43m\"\u001b[39;49m\u001b[38;5;124;43musing\u001b[39;49m\u001b[38;5;124;43m\"\u001b[39;49m\u001b[43m:\u001b[49m\u001b[43m \u001b[49m\u001b[43mby\u001b[49m\u001b[43m,\u001b[49m\u001b[43m \u001b[49m\u001b[38;5;124;43m\"\u001b[39;49m\u001b[38;5;124;43mvalue\u001b[39;49m\u001b[38;5;124;43m\"\u001b[39;49m\u001b[43m:\u001b[49m\u001b[43m \u001b[49m\u001b[43mvalue\u001b[49m\u001b[43m}\u001b[49m\u001b[43m)\u001b[49m[\u001b[38;5;124m\"\u001b[39m\u001b[38;5;124mvalue\u001b[39m\u001b[38;5;124m\"\u001b[39m]\n",
      "File \u001b[0;32m~/.envs/default_python/lib64/python3.12/site-packages/selenium/webdriver/remote/webelement.py:395\u001b[0m, in \u001b[0;36mWebElement._execute\u001b[0;34m(self, command, params)\u001b[0m\n\u001b[1;32m    393\u001b[0m     params \u001b[38;5;241m=\u001b[39m {}\n\u001b[1;32m    394\u001b[0m params[\u001b[38;5;124m\"\u001b[39m\u001b[38;5;124mid\u001b[39m\u001b[38;5;124m\"\u001b[39m] \u001b[38;5;241m=\u001b[39m \u001b[38;5;28mself\u001b[39m\u001b[38;5;241m.\u001b[39m_id\n\u001b[0;32m--> 395\u001b[0m \u001b[38;5;28;01mreturn\u001b[39;00m \u001b[38;5;28;43mself\u001b[39;49m\u001b[38;5;241;43m.\u001b[39;49m\u001b[43m_parent\u001b[49m\u001b[38;5;241;43m.\u001b[39;49m\u001b[43mexecute\u001b[49m\u001b[43m(\u001b[49m\u001b[43mcommand\u001b[49m\u001b[43m,\u001b[49m\u001b[43m \u001b[49m\u001b[43mparams\u001b[49m\u001b[43m)\u001b[49m\n",
      "File \u001b[0;32m~/.envs/default_python/lib64/python3.12/site-packages/selenium/webdriver/remote/webdriver.py:347\u001b[0m, in \u001b[0;36mWebDriver.execute\u001b[0;34m(self, driver_command, params)\u001b[0m\n\u001b[1;32m    345\u001b[0m response \u001b[38;5;241m=\u001b[39m \u001b[38;5;28mself\u001b[39m\u001b[38;5;241m.\u001b[39mcommand_executor\u001b[38;5;241m.\u001b[39mexecute(driver_command, params)\n\u001b[1;32m    346\u001b[0m \u001b[38;5;28;01mif\u001b[39;00m response:\n\u001b[0;32m--> 347\u001b[0m     \u001b[38;5;28;43mself\u001b[39;49m\u001b[38;5;241;43m.\u001b[39;49m\u001b[43merror_handler\u001b[49m\u001b[38;5;241;43m.\u001b[39;49m\u001b[43mcheck_response\u001b[49m\u001b[43m(\u001b[49m\u001b[43mresponse\u001b[49m\u001b[43m)\u001b[49m\n\u001b[1;32m    348\u001b[0m     response[\u001b[38;5;124m\"\u001b[39m\u001b[38;5;124mvalue\u001b[39m\u001b[38;5;124m\"\u001b[39m] \u001b[38;5;241m=\u001b[39m \u001b[38;5;28mself\u001b[39m\u001b[38;5;241m.\u001b[39m_unwrap_value(response\u001b[38;5;241m.\u001b[39mget(\u001b[38;5;124m\"\u001b[39m\u001b[38;5;124mvalue\u001b[39m\u001b[38;5;124m\"\u001b[39m, \u001b[38;5;28;01mNone\u001b[39;00m))\n\u001b[1;32m    349\u001b[0m     \u001b[38;5;28;01mreturn\u001b[39;00m response\n",
      "File \u001b[0;32m~/.envs/default_python/lib64/python3.12/site-packages/selenium/webdriver/remote/errorhandler.py:229\u001b[0m, in \u001b[0;36mErrorHandler.check_response\u001b[0;34m(self, response)\u001b[0m\n\u001b[1;32m    227\u001b[0m         alert_text \u001b[38;5;241m=\u001b[39m value[\u001b[38;5;124m\"\u001b[39m\u001b[38;5;124malert\u001b[39m\u001b[38;5;124m\"\u001b[39m]\u001b[38;5;241m.\u001b[39mget(\u001b[38;5;124m\"\u001b[39m\u001b[38;5;124mtext\u001b[39m\u001b[38;5;124m\"\u001b[39m)\n\u001b[1;32m    228\u001b[0m     \u001b[38;5;28;01mraise\u001b[39;00m exception_class(message, screen, stacktrace, alert_text)  \u001b[38;5;66;03m# type: ignore[call-arg]  # mypy is not smart enough here\u001b[39;00m\n\u001b[0;32m--> 229\u001b[0m \u001b[38;5;28;01mraise\u001b[39;00m exception_class(message, screen, stacktrace)\n",
      "\u001b[0;31mNoSuchElementException\u001b[0m: Message: no such element: Unable to locate element: {\"method\":\"css selector\",\"selector\":\"span[class*='e-1kb3u2t']\"}\n  (Session info: chrome-headless-shell=121.0.6167.85); For documentation on this error, please visit: https://www.selenium.dev/documentation/webdriver/troubleshooting/errors#no-such-element-exception\nStacktrace:\n#0 0x560fdc674a53 <unknown>\n#1 0x560fdc367154 <unknown>\n#2 0x560fdc3abad6 <unknown>\n#3 0x560fdc3abcf1 <unknown>\n#4 0x560fdc3a1eb6 <unknown>\n#5 0x560fdc3cd83d <unknown>\n#6 0x560fdc3a1dfe <unknown>\n#7 0x560fdc3cd9de <unknown>\n#8 0x560fdc3ea178 <unknown>\n#9 0x560fdc3cd5b3 <unknown>\n#10 0x560fdc3a023d <unknown>\n#11 0x560fdc3a0e9e <unknown>\n#12 0x560fdc64420e <unknown>\n#13 0x560fdc6474dd <unknown>\n#14 0x560fdc646f6f <unknown>\n#15 0x560fdc6479e5 <unknown>\n#16 0x560fdc6357ab <unknown>\n#17 0x560fdc647dc5 <unknown>\n#18 0x560fdc621582 <unknown>\n#19 0x560fdc663ac5 <unknown>\n#20 0x560fdc663c6c <unknown>\n#21 0x560fdc673dc6 <unknown>\n#22 0x7ff98ebd0897 start_thread\n#23 0x7ff98ec576fc __clone3\n"
     ]
    }
   ],
   "source": [
    "data = [] \n",
    " \n",
    "for bread in breads: \n",
    "\textracted_data = extract_data(bread) \n",
    "\tdata.append(extracted_data) \n",
    " \n",
    "df = pd.DataFrame(data) \n",
    "df.to_csv(\"result.csv\", index=False)\n"
   ]
  },
  {
   "cell_type": "code",
   "execution_count": null,
   "metadata": {},
   "outputs": [],
   "source": []
  }
 ],
 "metadata": {
  "kernelspec": {
   "display_name": "default_python",
   "language": "python",
   "name": "python3"
  },
  "language_info": {
   "codemirror_mode": {
    "name": "ipython",
    "version": 3
   },
   "file_extension": ".py",
   "mimetype": "text/x-python",
   "name": "python",
   "nbconvert_exporter": "python",
   "pygments_lexer": "ipython3",
   "version": "3.12.1"
  }
 },
 "nbformat": 4,
 "nbformat_minor": 2
}
